{
 "cells": [
  {
   "cell_type": "markdown",
   "metadata": {
    "colab_type": "text",
    "id": "NeHOR-YRI0ZX"
   },
   "source": [
    "# Методы машинного обучения\n",
    "\n",
    "## Практическое задание 1"
   ]
  },
  {
   "cell_type": "markdown",
   "metadata": {
    "colab_type": "text",
    "id": "Ffmo-UcfJ8DW"
   },
   "source": [
    "### Правила\n",
    "\n",
    "Мягкий дедлайн: 23:59MSK 23.12.2019\n",
    "\n",
    "Жесткий дедлайн: 23:59MSK 26.12.2019\n",
    "\n",
    "- Для сдачи задания необходимо загрузить в Anytask заполненную `.ipynb`-тетрадку до мягкого дедлайна.\n",
    "- Также можно сдать задание после мягкого, но до жесткого дедлайна, при этом за каждые прошедшие сутки после мягкого дедлайна из итоговой оценки за задание вычитывается 1 балл.\n",
    "- Работы, присланные после жесткого дедлайна, не оцениваются.\n",
    "- Если вы нашли решение какой-то задачи в открытом источнике, вам нужно не только переписать оттуда решение, но и указать ссылку на этот источник. Возможно, такое решение нашли сразу несколько студентов, и это обезопасит вас от подозрений в плагиате.\n",
    "- При обнаружении плагиата обнуляются работы всех задействованных в списывании студентов и подается докладная записка в деканат.\n",
    "- Вопросы по домашнему заданию стоит задавать в канале в Телеграме. Очевидно, готовыми решениями там (и где бы то ни было) делиться нельзя.\n",
    "\n",
    "Задание состоит из задач, каждая из них имеет определенную «стоимость» (указана в скобках около задачи). В конце задания есть небольшое бонусное задание.\n",
    "\n",
    "Удачи!"
   ]
  },
  {
   "cell_type": "markdown",
   "metadata": {
    "colab_type": "text",
    "id": "_oi-KdCuf7MU"
   },
   "source": [
    "### Часть 1 — осмысление задач МО\n",
    "\n",
    " \n",
    "\n",
    "1.   [2 балла] Предположим, вы работаете в компании, которая занимается продажей подержанных автомобилей. Ваш начальник просит вас построить модель, которая оценивает стоимость автомобиля, но у вас нет ни конкретной формулировки проблемы, ни готового набора данных — вам нужно самостоятельно формализовать задачу и понять, какие данные использовать. **Доопределите задачу машинного обучения:** К какому типу она относится? Какие известные вам методы можно использовать? Какие плюсы и минусы есть у каждого из методов? Может быть, вы можете предложить еще какие-то методы, которые не упоминались в лекции?\n",
    "Какие признаки вы бы использовали для решения этой задачи? Какие ограничения при сборе и подготовке данных вы можете встретить? Какие признаки из предложенных ранее собрать сложно? Почему?\n",
    "\n",
    "Напишите развернутый ответ на вопросы, перечисленные выше, и предложите оптимальный, по вашему мнению, способ решения задачи: сформулируйте задачу, определите признаки, опишите принципы построения обучающей выборки, выберите метрику качества и алгоритм.\n"
   ]
  },
  {
   "cell_type": "markdown",
   "metadata": {
    "colab_type": "text",
    "id": "DDlKYaTCgHt6"
   },
   "source": [
    "**Ваш ответ:**"
   ]
  },
  {
   "cell_type": "markdown",
   "metadata": {
    "colab_type": "text",
    "id": "NxhzZSgff-NC"
   },
   "source": [
    "2.   [2 балла] Вы сменили место работы и теперь работаете с геопространственными данными. Ваша задача — предсказывать, понравится ли пользователю конкретное место на карте (например, кафе, бар или магазин). \n",
    "\n",
    "**Доопределите задачу машинного обучения и предложите метод решения аналогично предыдущей части.** Особое внимание уделите механизму построения обучающей и тестовой выборки.\n",
    "\n",
    "*В задаче будет оцениваться не объем написанного, а содержательная правильность. Иными словами, лучше хорошо вникнуть в лекции и написать краткие ответы, чем просто скопировать много определений из интернета. В принципе в большинстве хороших решений оба пункта уместились бы на полутора-двух страницах разреженного текста.*\n"
   ]
  },
  {
   "cell_type": "markdown",
   "metadata": {
    "colab_type": "text",
    "id": "9Mj1lZxpgMHV"
   },
   "source": [
    "**Ваш ответ:**"
   ]
  },
  {
   "cell_type": "markdown",
   "metadata": {
    "colab_type": "text",
    "id": "9oJ5YS_cJsKG"
   },
   "source": [
    "---"
   ]
  },
  {
   "cell_type": "markdown",
   "metadata": {
    "colab_type": "text",
    "id": "P4SEAjehJSbn"
   },
   "source": [
    "### Часть 2 — Pandas и Matplotlib"
   ]
  },
  {
   "cell_type": "markdown",
   "metadata": {
    "colab_type": "text",
    "id": "UEAUD59CS4hz"
   },
   "source": [
    "Эта часть состоит из двух разделов, посвященных работе с табличными данными с помощью библиотеки pandas и визуализации с помощью matplotlib. Баллы даются за выполнение отдельных пунктов. Задачи в рамках одного раздела рекомендуется решать в том порядке, в котором они даны в задании.\n",
    "\n"
   ]
  },
  {
   "cell_type": "markdown",
   "metadata": {
    "colab_type": "text",
    "id": "cu2OjcH5Mbwc"
   },
   "source": [
    "---"
   ]
  },
  {
   "cell_type": "markdown",
   "metadata": {
    "colab_type": "text",
    "id": "zfYPd5CVMaEX"
   },
   "source": [
    "Pandas — удобная библиотека для работы с табличными данными в Python, если данных не слишком много и они помещаются в оперативную память вашего компьютера. Несмотря на неэффективность реализации и некоторые проблемы, библиотека стала стандартом в анализе данных.\n",
    "\n",
    "Основной объект в Pandas --- это DataFrame, представляющий собой таблицу с именованными колонками различных типов, индексом (может быть многоуровневым). DataFrame можно создавать, считывая таблицу из файла или задавая вручную из других объектов.\n",
    "\n",
    "В этой части потребуется выполнить несколько небольших заданий. Можно пойти двумя путями: сначала изучить материалы, а потом приступить к заданиям, или же разбираться по ходу. Выбирайте сами.\n",
    "\n",
    "Материалы:\n",
    "1. [Pandas за 10 минут из официального руководства](http://pandas.pydata.org/pandas-docs/stable/10min.html)\n",
    "2. [Документация](http://pandas.pydata.org/pandas-docs/stable/index.html) (стоит обращаться, если не понятно, как вызывать конкретный метод)\n",
    "3. [Примеры использования функционала](http://nbviewer.jupyter.org/github/justmarkham/pandas-videos/blob/master/pandas.ipynb)\n",
    "\n",
    "Многие из заданий можно выполнить несколькими способами. Не существует единственно верного, но попробуйте максимально задействовать арсенал Pandas и ориентируйтесь на простоту и понятность вашего кода. Мы не будем подсказывать, что нужно использовать для решения конкретной задачи, попробуйте находить необходимый функционал сами (название метода чаще всего очевидно). В помощь вам документация, поиск и StackOverflow."
   ]
  },
  {
   "cell_type": "code",
   "execution_count": null,
   "metadata": {
    "colab": {},
    "colab_type": "code",
    "id": "WDNAit9HMZhZ"
   },
   "outputs": [],
   "source": [
    "# import almost all we need\n",
    "%matplotlib inline\n",
    "%config InlineBackend.figure_format='retina'\n",
    "\n",
    "from matplotlib import pyplot as plt\n",
    "import pandas as pd\n",
    "import numpy as np"
   ]
  },
  {
   "cell_type": "markdown",
   "metadata": {
    "colab_type": "text",
    "id": "0SroYP2zM4ww"
   },
   "source": [
    "Данные можно скачать [отсюда](https://www.dropbox.com/s/5qq94wzmbw4e54r/data.csv?dl=0)."
   ]
  },
  {
   "cell_type": "markdown",
   "metadata": {
    "colab_type": "text",
    "id": "-JYGyqBfM7bL"
   },
   "source": [
    "#### 1. [0.3 балла] Загрузите данные из файла в некоторую переменную (не забудьте про формат файла). Выведите последние 10 строк.\n",
    "\n",
    "Посмотрите на данные и скажите, что они собой представляют, сколько в таблице строк, какие столбцы?"
   ]
  },
  {
   "cell_type": "code",
   "execution_count": null,
   "metadata": {
    "colab": {},
    "colab_type": "code",
    "id": "6KtJEGXfM1ZS"
   },
   "outputs": [],
   "source": [
    "# your code"
   ]
  },
  {
   "cell_type": "markdown",
   "metadata": {
    "colab_type": "text",
    "id": "v1O4FX31NAU-"
   },
   "source": [
    "#### 2. [0.15 балла] Ответьте на вопросы:\n",
    "1. Сколько заказов попало в выборку?\n",
    "2. Сколько уникальных категорий товара было куплено? (`item_name`)"
   ]
  },
  {
   "cell_type": "code",
   "execution_count": null,
   "metadata": {
    "colab": {},
    "colab_type": "code",
    "id": "JwmlSd_wNFHo"
   },
   "outputs": [],
   "source": [
    "# your code"
   ]
  },
  {
   "cell_type": "markdown",
   "metadata": {
    "colab_type": "text",
    "id": "IIwaJ5RENJGU"
   },
   "source": [
    "#### 3. [0.15 балла] Есть ли в данных пропуски? В каких столбцах? "
   ]
  },
  {
   "cell_type": "code",
   "execution_count": null,
   "metadata": {
    "colab": {},
    "colab_type": "code",
    "id": "YwQD_M_8NN2k"
   },
   "outputs": [],
   "source": [
    "# your code"
   ]
  },
  {
   "cell_type": "markdown",
   "metadata": {
    "colab_type": "text",
    "id": "3OoFijOANQ11"
   },
   "source": [
    "Заполните пропуски пустой строкой для строковых колонок и нулём для числовых."
   ]
  },
  {
   "cell_type": "code",
   "execution_count": null,
   "metadata": {
    "colab": {},
    "colab_type": "code",
    "id": "One_Cht4NQRT"
   },
   "outputs": [],
   "source": [
    "# your code"
   ]
  },
  {
   "cell_type": "markdown",
   "metadata": {
    "colab_type": "text",
    "id": "y-WBmpIWNUzv"
   },
   "source": [
    "#### 4. [0.3 балла] Посмотрите внимательнее на столбец с ценой товара. Какого он типа? Создайте новый столбец так, чтобы в нем цена была числом.\n",
    "\n",
    "Для этого попробуйте применить функцию-преобразование к каждой строке вашей таблицы (вспомните про метод `.apply`)."
   ]
  },
  {
   "cell_type": "code",
   "execution_count": null,
   "metadata": {
    "colab": {},
    "colab_type": "code",
    "id": "DW6pj5H_Ng0Q"
   },
   "outputs": [],
   "source": [
    "# your code"
   ]
  },
  {
   "cell_type": "markdown",
   "metadata": {
    "colab_type": "text",
    "id": "awN9g9FgNk2W"
   },
   "source": [
    "Какая средняя/минимальная/максимальная цена у товара? "
   ]
  },
  {
   "cell_type": "code",
   "execution_count": null,
   "metadata": {
    "colab": {},
    "colab_type": "code",
    "id": "IKYPUfnvNmGv"
   },
   "outputs": [],
   "source": [
    "# your code"
   ]
  },
  {
   "cell_type": "markdown",
   "metadata": {
    "colab_type": "text",
    "id": "SuRP5hlwNm3X"
   },
   "source": [
    "Удалите старый столбец с ценой.\n"
   ]
  },
  {
   "cell_type": "code",
   "execution_count": null,
   "metadata": {
    "colab": {},
    "colab_type": "code",
    "id": "TxiW9bWlNp8a"
   },
   "outputs": [],
   "source": [
    "# your code"
   ]
  },
  {
   "cell_type": "markdown",
   "metadata": {
    "colab_type": "text",
    "id": "ehCG5diTNthL"
   },
   "source": [
    "#### 5. [0.15 балла] Какие 5 товаров были самыми дешёвыми и самыми дорогими? (по `item_name`)\n",
    "\n",
    "Для этого будет удобно избавиться от дубликатов и отсортировать товары. Не забудьте про количество товара."
   ]
  },
  {
   "cell_type": "code",
   "execution_count": null,
   "metadata": {
    "colab": {},
    "colab_type": "code",
    "id": "LjNQNq0LNwQE"
   },
   "outputs": [],
   "source": [
    "# your code"
   ]
  },
  {
   "cell_type": "markdown",
   "metadata": {
    "colab_type": "text",
    "id": "X73oWvwaNzUX"
   },
   "source": [
    "#### 6. [0.3 балла] Сколько раз клиенты покупали больше одной Chicken Bowl (это название из `item_name`)?"
   ]
  },
  {
   "cell_type": "code",
   "execution_count": null,
   "metadata": {
    "colab": {},
    "colab_type": "code",
    "id": "EQLO9raON3kY"
   },
   "outputs": [],
   "source": [
    "# your code"
   ]
  },
  {
   "cell_type": "markdown",
   "metadata": {
    "colab_type": "text",
    "id": "Ed7geVjFN5_B"
   },
   "source": [
    "#### 7. [0.3 балла] Какой средний чек у заказа? Сколько в среднем товаров покупают?\n",
    "\n",
    "Если необходимо провести вычисления в терминах заказов, то будет удобно сгруппировать строки по заказам и посчитать необходимые статистики."
   ]
  },
  {
   "cell_type": "code",
   "execution_count": null,
   "metadata": {
    "colab": {},
    "colab_type": "code",
    "id": "GN3r1UNdN-Mq"
   },
   "outputs": [],
   "source": [
    "# your code"
   ]
  },
  {
   "cell_type": "markdown",
   "metadata": {
    "colab_type": "text",
    "id": "4PUy9lHgN__w"
   },
   "source": [
    "#### 8. [0.15 балла] Сколько заказов содержали ровно 1 товар?"
   ]
  },
  {
   "cell_type": "code",
   "execution_count": null,
   "metadata": {
    "colab": {},
    "colab_type": "code",
    "id": "Ai8aeWmrOA-m"
   },
   "outputs": [],
   "source": [
    "# your code"
   ]
  },
  {
   "cell_type": "markdown",
   "metadata": {
    "colab_type": "text",
    "id": "WzQo_7PsOBmF"
   },
   "source": [
    "#### 9. [0.15 балла] Какая самая популярная категория товара? "
   ]
  },
  {
   "cell_type": "code",
   "execution_count": null,
   "metadata": {
    "colab": {},
    "colab_type": "code",
    "id": "YiiraKG8OD-w"
   },
   "outputs": [],
   "source": [
    "# your code"
   ]
  },
  {
   "cell_type": "markdown",
   "metadata": {
    "colab_type": "text",
    "id": "zCEgu55jOFvq"
   },
   "source": [
    "#### 10. [0.3 балла] Какие виды Burrito существуют? Какой из них чаще всего покупают? Какой из них самый дорогой? "
   ]
  },
  {
   "cell_type": "code",
   "execution_count": null,
   "metadata": {
    "colab": {},
    "colab_type": "code",
    "id": "OkFB1S9vOGve"
   },
   "outputs": [],
   "source": [
    "# your code"
   ]
  },
  {
   "cell_type": "markdown",
   "metadata": {
    "colab_type": "text",
    "id": "HXkoaq3KOKUd"
   },
   "source": [
    "#### 11. [0.45 балла] В каком количестве заказов есть товар, который стоит более 40% от суммы всего чека?\n",
    "\n",
    "Возможно, будет удобно посчитать отдельно среднюю стоимость заказа, добавить ее в исходные данные и сделать необходимые проверки.\n",
    "\n",
    "*Данный комментарий стоит воспринимать как подсказку к одному из вариантов решений задания. Если в вашем варианте решения он не нужен, это не страшно*"
   ]
  },
  {
   "cell_type": "code",
   "execution_count": null,
   "metadata": {
    "colab": {},
    "colab_type": "code",
    "id": "ukAUC7foONu1"
   },
   "outputs": [],
   "source": [
    "# your code"
   ]
  },
  {
   "cell_type": "markdown",
   "metadata": {
    "colab_type": "text",
    "id": "LppA-kNPOQbh"
   },
   "source": [
    "#### 12. [0.45 балла] Предположим, что в данных была ошибка и Diet Coke (choice_description), которая стоила $1.25, должна была стоить 1.35. Скорректируйте данные в таблице и посчитайте, на какой процент больше денег было заработано с этого товара. Не забывайте, что количество товара не всегда равно 1."
   ]
  },
  {
   "cell_type": "code",
   "execution_count": null,
   "metadata": {
    "colab": {},
    "colab_type": "code",
    "id": "uIgTEK5_OW5u"
   },
   "outputs": [],
   "source": [
    "# your code"
   ]
  },
  {
   "cell_type": "markdown",
   "metadata": {
    "colab_type": "text",
    "id": "L0K92hkcOakj"
   },
   "source": [
    "#### 13. [0.45 балла] Создайте новый `DataFrame` из матрицы, созданной ниже. Назовите столбцы `index`, `column1`, `column2` и сделайте первый столбец индексом."
   ]
  },
  {
   "cell_type": "code",
   "execution_count": null,
   "metadata": {
    "colab": {},
    "colab_type": "code",
    "id": "cleEJ3dcOhsa"
   },
   "outputs": [],
   "source": [
    "data = np.random.rand(10, 3)\n",
    "\n",
    "# your code"
   ]
  },
  {
   "cell_type": "code",
   "execution_count": null,
   "metadata": {
    "colab": {},
    "colab_type": "code",
    "id": "F6QYL2sqOjmo"
   },
   "outputs": [],
   "source": []
  },
  {
   "cell_type": "markdown",
   "metadata": {
    "colab_type": "text",
    "id": "43Q7TMISOqMe"
   },
   "source": [
    "Сохраните DataFrame на диск в формате csv без индексов и названий столбцов."
   ]
  },
  {
   "cell_type": "code",
   "execution_count": null,
   "metadata": {
    "colab": {},
    "colab_type": "code",
    "id": "TE-97RUjOqr3"
   },
   "outputs": [],
   "source": [
    "# your code"
   ]
  },
  {
   "cell_type": "markdown",
   "metadata": {
    "colab_type": "text",
    "id": "iQlt2sgqOwdS"
   },
   "source": [
    "---\n",
    "\n",
    "При работе с данными часто неудобно делать какие-то выводы, если смотреть на таблицу и числа в частности, поэтому важно уметь визуализировать данные. В этом разделе мы этим и займёмся.\n",
    "\n",
    "У matplotlib, конечно, же есть [документация](https://matplotlib.org/users/index.html) с большим количеством [примеров](https://matplotlib.org/examples/), но для начала достаточно знать про несколько основных типов графиков:\n",
    "- plot — обычный поточечный график, которым можно изображать кривые или отдельные точки;\n",
    "- hist — гистограмма, показывающая распределение некоторое величины;\n",
    "- scatter — график, показывающий взаимосвязь двух величин;\n",
    "- bar — столбцовый график, показывающий взаимосвязь количественной величины от категориальной.\n",
    "\n",
    "В этом задании вы попробуете построить каждый из них. Не менее важно усвоить базовые принципы визуализаций:\n",
    "- на графиках должны быть подписаны оси;\n",
    "- у визуализации должно быть название;\n",
    "- если изображено несколько графиков, то необходима поясняющая легенда;\n",
    "- все линии на графиках должны быть чётко видны (нет похожих цветов или цветов, сливающихся с фоном);\n",
    "- если отображена величина, имеющая очевидный диапазон значений (например, проценты могут быть от 0 до 100), то желательно масштабировать ось на весь диапазон значений (исключением является случай, когда вам необходимо показать малое отличие, которое незаметно в таких масштабах).\n",
    "- сетка на графике помогает оценить значения в точках на глаз, это иногда полезно.\n",
    "\n",
    "Работать мы будем с той же выборкой покупкок. Добавим новую колонку с датой покупки."
   ]
  },
  {
   "cell_type": "code",
   "execution_count": null,
   "metadata": {
    "colab": {},
    "colab_type": "code",
    "id": "fpEYSn9kOxcY"
   },
   "outputs": [],
   "source": [
    "import datetime\n",
    "\n",
    "start = datetime.datetime(2018, 1, 1)\n",
    "end = datetime.datetime(2018, 1, 31)\n",
    "delta_seconds = int((end - start).total_seconds())\n",
    "\n",
    "dates = pd.DataFrame(index=df.order_id.unique())\n",
    "dates['date'] = [\n",
    "    (start + datetime.timedelta(seconds=random.randint(0, delta_seconds))).strftime('%Y-%m-%d')\n",
    "    for _ in range(df.order_id.nunique())]\n",
    "\n",
    "# если DataFrame с покупками из прошлого заказа называется не df, замените на ваше название ниже\n",
    "df['date'] = df.order_id.map(dates['date'])"
   ]
  },
  {
   "cell_type": "markdown",
   "metadata": {
    "colab_type": "text",
    "id": "daWdZlb3PL2e"
   },
   "source": [
    "#### 1. [0.6 балла] Постройте гистограмму распределения сумм покупок и гистограмму средних цен отдельных видов продуктов item_name. \n",
    "\n",
    "Изображайте на двух соседних графиках. Для этого может быть полезен subplot."
   ]
  },
  {
   "cell_type": "code",
   "execution_count": null,
   "metadata": {
    "colab": {},
    "colab_type": "code",
    "id": "fO78LzvXO-l5"
   },
   "outputs": [],
   "source": [
    "# your code"
   ]
  },
  {
   "cell_type": "markdown",
   "metadata": {
    "colab_type": "text",
    "id": "MLKYMEfIPMn-"
   },
   "source": [
    "#### 2. [0.6 балла] Постройте график зависимости суммы покупок от дней."
   ]
  },
  {
   "cell_type": "code",
   "execution_count": null,
   "metadata": {
    "colab": {},
    "colab_type": "code",
    "id": "LbNaRfytPPGk"
   },
   "outputs": [],
   "source": [
    "# your code"
   ]
  },
  {
   "cell_type": "markdown",
   "metadata": {
    "colab_type": "text",
    "id": "uqAlNro-PPn6"
   },
   "source": [
    "#### 3. [0.6 балла] Постройте график средних сумм покупок по дням недели (bar plot)."
   ]
  },
  {
   "cell_type": "code",
   "execution_count": null,
   "metadata": {
    "colab": {},
    "colab_type": "code",
    "id": "Sv8I_Nn5PRIN"
   },
   "outputs": [],
   "source": [
    "# your code"
   ]
  },
  {
   "cell_type": "markdown",
   "metadata": {
    "colab_type": "text",
    "id": "dDkG-F8IPRZr"
   },
   "source": [
    "#### 4. [0.6 балла] Постройте график зависимости денег за товар от купленного количества (scatter plot)."
   ]
  },
  {
   "cell_type": "code",
   "execution_count": null,
   "metadata": {
    "colab": {},
    "colab_type": "code",
    "id": "-_pQoVSjPTXt"
   },
   "outputs": [],
   "source": [
    "# your code"
   ]
  },
  {
   "cell_type": "markdown",
   "metadata": {
    "colab_type": "text",
    "id": "9Jg1tQLJPT9Y"
   },
   "source": [
    "Сохраните график в формате pdf (так он останется векторизованным)."
   ]
  },
  {
   "cell_type": "code",
   "execution_count": null,
   "metadata": {
    "colab": {},
    "colab_type": "code",
    "id": "HuT1AWwzPWdG"
   },
   "outputs": [],
   "source": [
    "# your code"
   ]
  },
  {
   "cell_type": "markdown",
   "metadata": {
    "colab_type": "text",
    "id": "3xKrI_9pPZxU"
   },
   "source": [
    "### Бонус (0.5 балла)\n",
    "\n",
    "Вставьте пару смешных мемов про этот курс, машинное обучение, Питон или программирование."
   ]
  },
  {
   "cell_type": "code",
   "execution_count": null,
   "metadata": {
    "colab": {},
    "colab_type": "code",
    "id": "9EwykFSAPlGq"
   },
   "outputs": [],
   "source": []
  }
 ],
 "metadata": {
  "colab": {
   "collapsed_sections": [
    "LppA-kNPOQbh",
    "L0K92hkcOakj",
    "daWdZlb3PL2e"
   ],
   "name": "hw1-ml-applied-pol.ipynb",
   "provenance": []
  },
  "kernelspec": {
   "display_name": "Python 3",
   "language": "python",
   "name": "python3"
  },
  "language_info": {
   "codemirror_mode": {
    "name": "ipython",
    "version": 3
   },
   "file_extension": ".py",
   "mimetype": "text/x-python",
   "name": "python",
   "nbconvert_exporter": "python",
   "pygments_lexer": "ipython3",
   "version": "3.7.5"
  }
 },
 "nbformat": 4,
 "nbformat_minor": 4
}
